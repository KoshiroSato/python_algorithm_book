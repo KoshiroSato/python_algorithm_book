{
 "cells": [
  {
   "cell_type": "code",
   "execution_count": 1,
   "id": "c33a5046",
   "metadata": {},
   "outputs": [
    {
     "name": "stdout",
     "output_type": "stream",
     "text": [
      "total: 412\n",
      "average: 82.4\n"
     ]
    }
   ],
   "source": [
    "## 平均値を求める\n",
    "\n",
    "scores = [70, 98, 92, 88, 64]\n",
    "total = 0\n",
    "for score in scores:\n",
    "    total += score\n",
    "avg = total / len(scores)\n",
    "print(f'total: {total}')\n",
    "print(f'average: {avg}')"
   ]
  },
  {
   "cell_type": "code",
   "execution_count": 2,
   "id": "05beb7aa",
   "metadata": {},
   "outputs": [
    {
     "name": "stdout",
     "output_type": "stream",
     "text": [
      "55\n",
      "55\n"
     ]
    }
   ],
   "source": [
    "## 1~nを足し合わせる\n",
    "\n",
    "N = 10\n",
    "\n",
    "def addup(n: int):\n",
    "    result = 0\n",
    "    for i in range(1, n+1):\n",
    "        result += i\n",
    "    print(result)\n",
    "    \n",
    "addup(N)\n",
    "\n",
    "# 工夫して計算する\n",
    "def addup_v2(n: int):\n",
    "    result = int((1 + n) * (n / 2))\n",
    "    print(result)\n",
    "    \n",
    "addup_v2(N)"
   ]
  },
  {
   "cell_type": "code",
   "execution_count": 3,
   "id": "e8c0e2cf",
   "metadata": {},
   "outputs": [
    {
     "name": "stdout",
     "output_type": "stream",
     "text": [
      "1 x 1 = 1\t2 x 1 = 2\t3 x 1 = 3\t4 x 1 = 4\t5 x 1 = 5\t6 x 1 = 6\t7 x 1 = 7\t8 x 1 = 8\t9 x 1 = 9\t\n",
      "1 x 2 = 2\t2 x 2 = 4\t3 x 2 = 6\t4 x 2 = 8\t5 x 2 = 10\t6 x 2 = 12\t7 x 2 = 14\t8 x 2 = 16\t9 x 2 = 18\t\n",
      "1 x 3 = 3\t2 x 3 = 6\t3 x 3 = 9\t4 x 3 = 12\t5 x 3 = 15\t6 x 3 = 18\t7 x 3 = 21\t8 x 3 = 24\t9 x 3 = 27\t\n",
      "1 x 4 = 4\t2 x 4 = 8\t3 x 4 = 12\t4 x 4 = 16\t5 x 4 = 20\t6 x 4 = 24\t7 x 4 = 28\t8 x 4 = 32\t9 x 4 = 36\t\n",
      "1 x 5 = 5\t2 x 5 = 10\t3 x 5 = 15\t4 x 5 = 20\t5 x 5 = 25\t6 x 5 = 30\t7 x 5 = 35\t8 x 5 = 40\t9 x 5 = 45\t\n",
      "1 x 6 = 6\t2 x 6 = 12\t3 x 6 = 18\t4 x 6 = 24\t5 x 6 = 30\t6 x 6 = 36\t7 x 6 = 42\t8 x 6 = 48\t9 x 6 = 54\t\n",
      "1 x 7 = 7\t2 x 7 = 14\t3 x 7 = 21\t4 x 7 = 28\t5 x 7 = 35\t6 x 7 = 42\t7 x 7 = 49\t8 x 7 = 56\t9 x 7 = 63\t\n",
      "1 x 8 = 8\t2 x 8 = 16\t3 x 8 = 24\t4 x 8 = 32\t5 x 8 = 40\t6 x 8 = 48\t7 x 8 = 56\t8 x 8 = 64\t9 x 8 = 72\t\n",
      "1 x 9 = 9\t2 x 9 = 18\t3 x 9 = 27\t4 x 9 = 36\t5 x 9 = 45\t6 x 9 = 54\t7 x 9 = 63\t8 x 9 = 72\t9 x 9 = 81\t\n"
     ]
    }
   ],
   "source": [
    "## 九九の式を出力する\n",
    "\n",
    "# for i in range(1, 10):\n",
    "#     for j in range(1, 10):\n",
    "#         print(f'{i} x {j} = {i*j}')\n",
    "\n",
    "# 見やすくする\n",
    "for i in range(1, 10):\n",
    "    kuku = ''\n",
    "    for j in range(1, 10):\n",
    "        kuku += f'{j} x {i} = {i*j}\\t'\n",
    "    print(kuku)"
   ]
  },
  {
   "cell_type": "code",
   "execution_count": 4,
   "id": "86c80def",
   "metadata": {},
   "outputs": [
    {
     "name": "stdout",
     "output_type": "stream",
     "text": [
      "2\n",
      "3\n",
      "5\n",
      "7\n",
      "11\n",
      "13\n",
      "17\n",
      "19\n",
      "23\n",
      "29\n",
      "31\n",
      "37\n",
      "41\n",
      "43\n",
      "47\n",
      "53\n",
      "59\n",
      "61\n",
      "67\n",
      "71\n",
      "73\n",
      "79\n",
      "83\n",
      "89\n",
      "97\n"
     ]
    }
   ],
   "source": [
    "## 2~100の素数判定\n",
    "\n",
    "FROM_N = 2\n",
    "TO_N = 100\n",
    "\n",
    "for i  in range(FROM_N, TO_N+1):\n",
    "    half_num = i // 2\n",
    "    flag = True\n",
    "    # 2以外の偶数は通過できない\n",
    "    for j in range(FROM_N, half_num+1):\n",
    "        if i % j == 0:\n",
    "            flag = False\n",
    "            break\n",
    "    if flag == True:\n",
    "        print(i)"
   ]
  },
  {
   "cell_type": "code",
   "execution_count": 5,
   "id": "72ac9092",
   "metadata": {},
   "outputs": [
    {
     "name": "stdout",
     "output_type": "stream",
     "text": [
      "10! = 3628800\n",
      "10! = 3628800\n",
      "0! = 1\n",
      "1! = 1\n",
      "2! = 2\n",
      "3! = 6\n",
      "4! = 24\n",
      "5! = 120\n",
      "6! = 720\n",
      "7! = 5040\n",
      "8! = 40320\n",
      "9! = 362880\n",
      "10! = 3628800\n"
     ]
    }
   ],
   "source": [
    "## nの階乗(n!)を求める\n",
    "## (0! = 1, 1! = 1)\n",
    "\n",
    "POS_NUM = 10\n",
    "\n",
    "def factorial_calc(n: int):\n",
    "    if n == 0:\n",
    "        result = 1\n",
    "    else:\n",
    "        result = n\n",
    "        for i in range(n-1, 1, -1):\n",
    "            result *= i\n",
    "    print(f'{n}! = {result}')\n",
    "    \n",
    "factorial_calc(POS_NUM)\n",
    "\n",
    "# 再帰関数として実装\n",
    "def factorial_calc_v2(n: int):\n",
    "    if n == 0:\n",
    "        return 1\n",
    "    else:\n",
    "        return  n * factorial_calc_v2(n-1)\n",
    "\n",
    "print(f'{POS_NUM}! = {factorial_calc_v2(POS_NUM)}')\n",
    "\n",
    "for i in range(POS_NUM+1):\n",
    "    print(f'{i}! = {factorial_calc_v2(i)}')"
   ]
  },
  {
   "cell_type": "code",
   "execution_count": 6,
   "id": "51e0bea1",
   "metadata": {},
   "outputs": [
    {
     "name": "stdout",
     "output_type": "stream",
     "text": [
      "10 is even\n",
      "-5 is odd\n",
      "0 is even\n",
      "29 is odd\n",
      "6 is even\n",
      "2 is even\n",
      "77 is odd\n",
      "8 is even\n",
      "3 ** 1 - 2 ** 1 = 1\n",
      "3 ** 2 - 2 ** 2 = 5\n",
      "3 ** 3 - 2 ** 3 = 19\n",
      "3 ** 4 - 2 ** 4 = 65\n"
     ]
    }
   ],
   "source": [
    "## 練習問題\n",
    "\n",
    "# 問2-1\n",
    "a = [10, -5, 0, 29, 6, 2, 77, 8]\n",
    "for v in a:\n",
    "    if v % 2 == 0:\n",
    "        print(f'{v} is even')\n",
    "    else:\n",
    "        print(f'{v} is odd')\n",
    "        \n",
    "# 問2-2\n",
    "for i in range(1, 5):\n",
    "    print(f'3 ** {i} - 2 ** {i} = {3**i - 2**i}')\n",
    "    \n",
    "# 問2-3\n",
    "# 1 x\n",
    "# 2 x\n",
    "# 3 o\n",
    "# 4 x\n",
    "# 5 x\n",
    "# 6 o"
   ]
  },
  {
   "cell_type": "code",
   "execution_count": 7,
   "id": "0b7a2605",
   "metadata": {},
   "outputs": [
    {
     "name": "stdout",
     "output_type": "stream",
     "text": [
      "2\n",
      "3\n",
      "5\n",
      "7\n",
      "11\n",
      "13\n",
      "17\n",
      "19\n",
      "23\n",
      "29\n",
      "31\n",
      "37\n",
      "41\n",
      "43\n",
      "47\n",
      "53\n",
      "59\n",
      "61\n",
      "67\n",
      "71\n",
      "73\n",
      "79\n",
      "83\n",
      "89\n",
      "97\n"
     ]
    }
   ],
   "source": [
    "## エラトステネスの篩\n",
    "## 2~100の素数判定\n",
    "\n",
    "\n",
    "nums = [i for i in range(101)]\n",
    "\n",
    "def sieve_of_eratosthenes(nums: list):\n",
    "    prime_nums = []\n",
    "    for n in nums:\n",
    "        if n not in [0, 1]:\n",
    "            if n in [2, 3, 5, 7]:\n",
    "                prime_nums.append(n)\n",
    "            elif n % 2 != 0 and n % 3 != 0 and n % 5 != 0 and n % 7 != 0:\n",
    "                prime_nums.append(n)\n",
    "    for prime_num in prime_nums:\n",
    "        print(prime_num)\n",
    "        \n",
    "sieve_of_eratosthenes(nums)"
   ]
  }
 ],
 "metadata": {
  "kernelspec": {
   "display_name": "Python 3",
   "language": "python",
   "name": "python3"
  },
  "language_info": {
   "codemirror_mode": {
    "name": "ipython",
    "version": 3
   },
   "file_extension": ".py",
   "mimetype": "text/x-python",
   "name": "python",
   "nbconvert_exporter": "python",
   "pygments_lexer": "ipython3",
   "version": "3.9.2"
  }
 },
 "nbformat": 4,
 "nbformat_minor": 5
}
