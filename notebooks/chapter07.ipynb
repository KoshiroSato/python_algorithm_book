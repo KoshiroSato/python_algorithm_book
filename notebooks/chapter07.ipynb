{
 "cells": [
  {
   "cell_type": "code",
   "execution_count": 1,
   "id": "f2876557",
   "metadata": {},
   "outputs": [],
   "source": [
    "## ユークリッドの互除法\n",
    "\n",
    "\n",
    "def euclidean_algorithm():\n",
    "    a = int(input('a = '))\n",
    "    b = int(input('b = '))\n",
    "    while True:\n",
    "        r = a % b\n",
    "        if r == 0:\n",
    "            print(f'GCD: {b}')\n",
    "            break\n",
    "        a, b = b, r\n",
    "\n",
    "        \n",
    "# 再帰関数にした場合\n",
    "\n",
    "def prompt_enter_nums():\n",
    "    a = int(input('a = '))\n",
    "    b = int(input('b = '))\n",
    "    return a, b\n",
    "\n",
    "def euclidean_algorithm_(a: int, b: int):\n",
    "    if b == 0:\n",
    "        return a\n",
    "    else:\n",
    "        return euclidean_algorithm_(b, a%b)"
   ]
  },
  {
   "cell_type": "code",
   "execution_count": 2,
   "id": "0696abd3",
   "metadata": {},
   "outputs": [
    {
     "name": "stdout",
     "output_type": "stream",
     "text": [
      "a = 12\n",
      "b = 10\n",
      "GCD: 2\n"
     ]
    }
   ],
   "source": [
    "euclidean_algorithm()"
   ]
  },
  {
   "cell_type": "code",
   "execution_count": 3,
   "id": "66f1ee33",
   "metadata": {},
   "outputs": [
    {
     "name": "stdout",
     "output_type": "stream",
     "text": [
      "a = 12\n",
      "b = 10\n",
      "GCD: 2\n"
     ]
    }
   ],
   "source": [
    "# 再帰関数にした場合\n",
    "a, b = prompt_enter_nums()\n",
    "print(f'GCD: {euclidean_algorithm_(a, b)}')"
   ]
  },
  {
   "cell_type": "code",
   "execution_count": 4,
   "id": "99df3d33",
   "metadata": {},
   "outputs": [
    {
     "name": "stdout",
     "output_type": "stream",
     "text": [
      "a = 12\n",
      "b = 10\n",
      "GCD: 2\n"
     ]
    }
   ],
   "source": [
    "# mathモジュール\n",
    "import math\n",
    "a, b = prompt_enter_nums()\n",
    "print(f'GCD: {math.gcd(a, b)}')"
   ]
  },
  {
   "cell_type": "code",
   "execution_count": 5,
   "id": "7956fd08",
   "metadata": {},
   "outputs": [
    {
     "name": "stdout",
     "output_type": "stream",
     "text": [
      "search_pattern: text_body[6] ~ text_body[11]\n",
      "search_pattern: text_body[6] ~ text_body[11]\n"
     ]
    }
   ],
   "source": [
    "## 文字列検索　\n",
    "\n",
    "TEXT = 'Learn Python and write programs.'\n",
    "PATTERN = 'Python'\n",
    "\n",
    "\n",
    "# 力任せ法\n",
    "def broute_force_search(text_body: str, search_pattern: str):\n",
    "    num_char_body = len(text_body)\n",
    "    num_char_patt = len(search_pattern)\n",
    "    flag = False\n",
    "    p = 0\n",
    "    while p <= num_char_body - num_char_patt:\n",
    "        c = 0\n",
    "        for i in range(num_char_patt):\n",
    "            if text_body[p+i] != search_pattern[i]:\n",
    "                break\n",
    "            c += 1\n",
    "        if c == num_char_patt:\n",
    "            flag = True\n",
    "            break\n",
    "        p += 1\n",
    "    if flag == True:\n",
    "        print(f'search_pattern: text_body[{p}] ~ text_body[{p+num_char_patt-1}]')\n",
    "    else:\n",
    "        print('pattern does not exist.')\n",
    "        \n",
    "# Boyer-Moore法\n",
    "def boyer_moore_search(text_body: str, search_pattern: str):\n",
    "    num_char_body = len(text_body)\n",
    "    num_char_patt = len(search_pattern)\n",
    "    flag = False\n",
    "    p = num_char_patt - 1\n",
    "    skip = [num_char_patt] * 256\n",
    "    \n",
    "    for i in range(num_char_patt-1):\n",
    "        encoded = ord(search_pattern[i])\n",
    "        skip[encoded] = num_char_patt - (i+1)\n",
    "    \n",
    "    while p < num_char_body:\n",
    "        flag = True\n",
    "        for i in range(num_char_patt):\n",
    "            if text_body[p-i] != search_pattern[num_char_patt-(i+1)]:\n",
    "                flag = False\n",
    "                break\n",
    "        if flag == True:\n",
    "            break\n",
    "        p += skip[ord(text_body[p])]\n",
    "    if flag == True:\n",
    "        print(f'search_pattern: text_body[{p-(num_char_patt-1)}] ~ text_body[{p}]')\n",
    "    else:\n",
    "        print('pattern does not exist.')\n",
    "        \n",
    "    \n",
    "broute_force_search(TEXT, PATTERN)\n",
    "boyer_moore_search(TEXT, PATTERN)"
   ]
  },
  {
   "cell_type": "code",
   "execution_count": 6,
   "id": "6ccfa7d4",
   "metadata": {},
   "outputs": [
    {
     "name": "stdout",
     "output_type": "stream",
     "text": [
      "start point: 0\n",
      "distance to node0: 0\n",
      "distance to node1: 3\n",
      "distance to node2: 2\n",
      "distance to node3: 4\n",
      "distance to node4: 9\n",
      "distance to node5: 5\n",
      "distance to node6: 8\n"
     ]
    }
   ],
   "source": [
    "## 最短経路問題（ダイクストラ法）\n",
    "\n",
    "F = 99999\n",
    "WAY = [\n",
    "    [F, 3, 2, 5, F, F, F],\n",
    "    [3, F, F, F, 7, F, F],\n",
    "    [2, F, F, 2, F, 4, F],\n",
    "    [5, F, 2, F, F, 1, F],\n",
    "    [F, 7, F, F, F, 4, 5],\n",
    "    [F, F, 4, 1, 4, F, 3],\n",
    "    [F, F, F, F, 5, 3, F],\n",
    "]\n",
    "\n",
    "def dijkstras_algorithm(way: list, inf: int, start: int):\n",
    "    dist = [inf] * len(way[0])\n",
    "    flag = [0] * len(way[0])\n",
    "    p = start\n",
    "    dist[p] = 0\n",
    "    \n",
    "    for i in range(len(way[0])):\n",
    "        d = inf\n",
    "        for j in range(len(way[0])):\n",
    "            if flag[j] == 0 and dist[j] < d:\n",
    "                p = j\n",
    "                d = dist[j]\n",
    "        flag[p] = 1\n",
    "        for k in range(len(way[0])):\n",
    "            if dist[p] + way[p][k] < dist[k]:\n",
    "                dist[k] = dist[p] + way[p][k]\n",
    "    print(f'start point: {start}')\n",
    "    for i in range(len(way[0])):\n",
    "        print(f'distance to node{i}: {dist[i]}')\n",
    "        \n",
    "        \n",
    "        \n",
    "dijkstras_algorithm(WAY, F, start=0)"
   ]
  }
 ],
 "metadata": {
  "kernelspec": {
   "display_name": "Python 3",
   "language": "python",
   "name": "python3"
  },
  "language_info": {
   "codemirror_mode": {
    "name": "ipython",
    "version": 3
   },
   "file_extension": ".py",
   "mimetype": "text/x-python",
   "name": "python",
   "nbconvert_exporter": "python",
   "pygments_lexer": "ipython3",
   "version": "3.9.2"
  }
 },
 "nbformat": 4,
 "nbformat_minor": 5
}
