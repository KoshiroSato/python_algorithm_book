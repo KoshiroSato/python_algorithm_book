{
 "cells": [
  {
   "cell_type": "markdown",
   "id": "1c87ee74",
   "metadata": {},
   "source": [
    "## ソート"
   ]
  },
  {
   "cell_type": "code",
   "execution_count": 1,
   "id": "c4bb9f80",
   "metadata": {},
   "outputs": [
    {
     "name": "stdout",
     "output_type": "stream",
     "text": [
      "sorting... [0, 3, 7, 1, 4, 2, 5, 8, 6, 9]\n",
      "sorting... [0, 1, 7, 3, 4, 2, 5, 8, 6, 9]\n",
      "sorting... [0, 1, 2, 3, 4, 7, 5, 8, 6, 9]\n",
      "sorting... [0, 1, 2, 3, 4, 7, 5, 8, 6, 9]\n",
      "sorting... [0, 1, 2, 3, 4, 7, 5, 8, 6, 9]\n",
      "sorting... [0, 1, 2, 3, 4, 5, 7, 8, 6, 9]\n",
      "sorting... [0, 1, 2, 3, 4, 5, 6, 8, 7, 9]\n",
      "sorting... [0, 1, 2, 3, 4, 5, 6, 7, 8, 9]\n",
      "sorting... [0, 1, 2, 3, 4, 5, 6, 7, 8, 9]\n",
      "sorted data: [0, 1, 2, 3, 4, 5, 6, 7, 8, 9]\n"
     ]
    }
   ],
   "source": [
    "## 選択ソート\n",
    "\n",
    "DATA = [9, 3, 7, 1, 4, 2, 5, 8, 6, 0]\n",
    "NUM_DATA = len(DATA)\n",
    "\n",
    "def select_sort(data: list, num_data: int):\n",
    "    for i in range(num_data - 1):\n",
    "        min_value = i\n",
    "        for j in range(i+1, num_data):\n",
    "            if data[j] < data[min_value]:\n",
    "                min_value = j\n",
    "        data[i], data[min_value] = data[min_value], data[i]\n",
    "        print(f'sorting... {data}')\n",
    "    print(f'sorted data: {data}')\n",
    "    \n",
    "select_sort(DATA, NUM_DATA)"
   ]
  },
  {
   "cell_type": "code",
   "execution_count": 2,
   "id": "11a83346",
   "metadata": {},
   "outputs": [
    {
     "name": "stdout",
     "output_type": "stream",
     "text": [
      "sorted data: [0, 1, 2, 3, 4, 5, 6, 7, 8, 9]\n"
     ]
    }
   ],
   "source": [
    "## バブルソート\n",
    "\n",
    "DATA = [9, 4, 7, 2, 3, 8, 6, 1, 5, 0]\n",
    "NUM_DATA = len(DATA)\n",
    "\n",
    "def bubble_sort(data: list, num_data: int):\n",
    "    for i in range(num_data-1):\n",
    "        for j in range(num_data-1, i, -1):\n",
    "            if data[j-1] > data[j]:\n",
    "                data[j], data[j-1] = data[j-1], data[j]\n",
    "    print(f'sorted data: {data}')\n",
    "    \n",
    "bubble_sort(DATA, NUM_DATA)"
   ]
  },
  {
   "cell_type": "code",
   "execution_count": 3,
   "id": "776c389b",
   "metadata": {},
   "outputs": [
    {
     "name": "stdout",
     "output_type": "stream",
     "text": [
      "sorting... [2, 9, 4, 7, 8, 3, 1, 5, 6, 0]\n",
      "sorting... [2, 4, 9, 7, 8, 3, 1, 5, 6, 0]\n",
      "sorting... [2, 4, 7, 9, 8, 3, 1, 5, 6, 0]\n",
      "sorting... [2, 4, 7, 8, 9, 3, 1, 5, 6, 0]\n",
      "sorting... [2, 3, 4, 7, 8, 9, 1, 5, 6, 0]\n",
      "sorting... [1, 2, 3, 4, 7, 8, 9, 5, 6, 0]\n",
      "sorting... [1, 2, 3, 4, 5, 7, 8, 9, 6, 0]\n",
      "sorting... [1, 2, 3, 4, 5, 6, 7, 8, 9, 0]\n",
      "sorting... [0, 1, 2, 3, 4, 5, 6, 7, 8, 9]\n",
      "sorted data: [0, 1, 2, 3, 4, 5, 6, 7, 8, 9]\n"
     ]
    }
   ],
   "source": [
    "## 挿入ソート\n",
    "\n",
    "DATA = [9, 2, 4, 7, 8, 3, 1, 5, 6, 0]\n",
    "NUM_DATA = len(DATA)\n",
    "\n",
    "def insert_sort(data: list, num_data: int):\n",
    "    for i in range(1, num_data):\n",
    "        tmp = data[i]\n",
    "        j = i\n",
    "        while j > 0 and data[j-1] > tmp:\n",
    "            data[j] = data[j-1]\n",
    "            j = j - 1\n",
    "        data[j] = tmp\n",
    "        print(f'sorting... {data}')\n",
    "    print(f'sorted data: {data}')\n",
    "    \n",
    "insert_sort(DATA, NUM_DATA)"
   ]
  },
  {
   "cell_type": "code",
   "execution_count": 4,
   "id": "478a3a19",
   "metadata": {},
   "outputs": [
    {
     "name": "stdout",
     "output_type": "stream",
     "text": [
      "sorted data: [8, 11, 12, 18, 32, 39, 42, 55, 68, 74, 85, 85, 93, 96, 99]\n"
     ]
    }
   ],
   "source": [
    "## クイックソート\n",
    "\n",
    "import random\n",
    "\n",
    "NUM_DATA = 15\n",
    "DATA = [random.randint(1,99) for _ in range(NUM_DATA)]\n",
    "\n",
    "def quick_sort(data: list, left: int, right: int):\n",
    "    pivot = data[(left+right) // 2]\n",
    "    i = left\n",
    "    j = right\n",
    "    while True:\n",
    "        while data[i] < pivot:\n",
    "            i += 1\n",
    "        while data[j] > pivot:\n",
    "            j -= 1\n",
    "        if i >= j:\n",
    "            break\n",
    "        data[i], data[j] = data[j], data[i]\n",
    "        i += 1\n",
    "        j -= 1\n",
    "    if left < i-1:\n",
    "        quick_sort(data, left, i-1)\n",
    "    if right > j+1:\n",
    "        quick_sort(data, j+1, right)\n",
    "    return data\n",
    "\n",
    "DATA = quick_sort(DATA, 0, NUM_DATA-1)\n",
    "print(f'sorted data: {DATA}')"
   ]
  },
  {
   "cell_type": "code",
   "execution_count": 5,
   "id": "3d7bb5ce",
   "metadata": {},
   "outputs": [
    {
     "name": "stdout",
     "output_type": "stream",
     "text": [
      "[0, 1, 2, 3, 4, 5, 6, 7, 8, 9]\n"
     ]
    }
   ],
   "source": [
    "## マージソート　\n",
    "\n",
    "# マージ\n",
    "\n",
    "DATA_A = [1, 3, 4, 7, 8, 9]\n",
    "DATA_B = [0, 2, 5, 6]\n",
    "\n",
    "\n",
    "def merge(data_a: list, data_b: list):\n",
    "    num_a = len(data_a)\n",
    "    num_b = len(data_b)\n",
    "    new_data = [0] * (num_a + num_b)\n",
    "    i = 0\n",
    "    j = 0\n",
    "    p = 0\n",
    "    \n",
    "    while i < num_a and j < num_b:\n",
    "        if data_a[i] <= data_b[j]:\n",
    "            new_data[p] = data_a[i]\n",
    "            i += 1\n",
    "            p += 1\n",
    "        else:\n",
    "            new_data[p] = data_b[j]\n",
    "            j += 1\n",
    "            p += 1\n",
    "    \n",
    "    while i < num_a:\n",
    "        new_data[p] = data_a[i]\n",
    "        i += 1\n",
    "        p += 1\n",
    "    \n",
    "    while j > num_b:\n",
    "        new_data[p] = data_b[j]\n",
    "        j += 1\n",
    "        p += 1\n",
    "    \n",
    "    return new_data\n",
    "\n",
    "MERGED_DATA = merge(DATA_A, DATA_B)\n",
    "print(MERGED_DATA)"
   ]
  },
  {
   "cell_type": "code",
   "execution_count": 6,
   "id": "5ea97dbb",
   "metadata": {},
   "outputs": [
    {
     "name": "stdout",
     "output_type": "stream",
     "text": [
      "[6, 80, 85, 50, 62, 70, 15, 44, 58, 97, 79, 82, 83, 98, 87]\n",
      "[6, 15, 44, 50, 58, 62, 70, 79, 80, 82, 83, 85, 87, 97, 98]\n"
     ]
    }
   ],
   "source": [
    "# マージソート\n",
    "\n",
    "NUM_DATA = 15\n",
    "DATA = [random.randint(1,99) for _ in range(NUM_DATA)]\n",
    "\n",
    "def merge(data: list, num_data: int, left: int, mid: int, right: int):\n",
    "    buffer = [0] * (right - left)\n",
    "    i = left\n",
    "    j = mid\n",
    "    p = 0\n",
    "    while i < mid and j < right:\n",
    "        if data[i] <= data[j]:\n",
    "            buffer[p] = data[i]\n",
    "            i += 1\n",
    "            p += 1\n",
    "        else:\n",
    "            buffer[p] = data[j]\n",
    "            j += 1\n",
    "            p += 1\n",
    "    while i < mid:\n",
    "        buffer[p] = data[i]\n",
    "        i += 1\n",
    "        p += 1\n",
    "    while j < right:\n",
    "        buffer[p] = data[j]\n",
    "        j += 1\n",
    "        p += 1\n",
    "    for n in range(left, right):\n",
    "        data[n] = buffer[n - left]\n",
    "    return data\n",
    "\n",
    "\n",
    "def merge_sort(data: list, num_data: int):\n",
    "    s = 2\n",
    "    while s <= num_data:\n",
    "        num_loop = num_data // s\n",
    "        fragment = num_data % s\n",
    "        for i in range(num_loop):\n",
    "            data = merge(data, num_data, i*s, i*s+(s//2), i*s+s)\n",
    "        if fragment > 0:\n",
    "            data = merge(data, num_data, (num_loop-1)*s, num_loop*s, num_data)\n",
    "        s *= 2\n",
    "    return data\n",
    "\n",
    "print(DATA)\n",
    "DATA = merge_sort(DATA, NUM_DATA)\n",
    "print(DATA)"
   ]
  },
  {
   "cell_type": "code",
   "execution_count": 7,
   "id": "702de997",
   "metadata": {},
   "outputs": [
    {
     "name": "stdout",
     "output_type": "stream",
     "text": [
      "[1, 2, 4, 5, 3, 6, 8]\n",
      "[8, 5, 6, 2, 3, 1, 4]\n"
     ]
    }
   ],
   "source": [
    "## ヒープソート\n",
    "\n",
    "# ヒープ（親 >= 子）\n",
    "\n",
    "DATA = [1, 2, 4, 5, 3, 6, 8]\n",
    "NUM_DATA = len(DATA)\n",
    "\n",
    "def heap(data: list, num_data: int):\n",
    "    for i in range((num_data-1)//2, -1, -1):\n",
    "        p = i\n",
    "        c = p * 2 + 1\n",
    "        while c < num_data:\n",
    "            if c < num_data-1 and data[c] < data[c+1]:\n",
    "                c += 1\n",
    "            if data[p] >= data[c]:\n",
    "                break\n",
    "            data[p], data[c] = data[c], data[p]\n",
    "            p = c\n",
    "            c = p * 2 + 1\n",
    "    return data\n",
    "\n",
    "print(DATA)\n",
    "DATA = heap(DATA, NUM_DATA)\n",
    "print(DATA)"
   ]
  },
  {
   "cell_type": "code",
   "execution_count": 11,
   "id": "f20ad5bd",
   "metadata": {},
   "outputs": [
    {
     "name": "stdout",
     "output_type": "stream",
     "text": [
      "[50, 7, 30, 43, 4, 93, 51, 32, 54, 98, 87, 32]\n",
      "[4, 7, 30, 32, 32, 43, 50, 51, 54, 87, 93, 98]\n"
     ]
    }
   ],
   "source": [
    "# ヒープソート\n",
    "\n",
    "NUM_DATA = 12\n",
    "DATA = [random.randint(1,99) for _ in range(NUM_DATA)]\n",
    "\n",
    "def heap_sort(data: list, num_data: int):\n",
    "    data = heap(data, num_data)\n",
    "    d = num_data - 1\n",
    "    while d > 0:\n",
    "        data[0], data[d] = data[d], data[0]\n",
    "        p = 0\n",
    "        c = p * 2 + 1\n",
    "        while c < d:\n",
    "            if c < d-1 and data[c] < data[c+1]:\n",
    "                c += 1\n",
    "            if data[p] >= data[c]:\n",
    "                break\n",
    "            data[p], data[c] = data[c], data[p]\n",
    "            p = c\n",
    "            c = p * 2 + 1\n",
    "        d = d - 1\n",
    "    return data\n",
    "\n",
    "print(DATA)\n",
    "DATA = heap_sort(DATA, NUM_DATA)\n",
    "print(DATA)"
   ]
  }
 ],
 "metadata": {
  "kernelspec": {
   "display_name": "Python 3",
   "language": "python",
   "name": "python3"
  },
  "language_info": {
   "codemirror_mode": {
    "name": "ipython",
    "version": 3
   },
   "file_extension": ".py",
   "mimetype": "text/x-python",
   "name": "python",
   "nbconvert_exporter": "python",
   "pygments_lexer": "ipython3",
   "version": "3.9.2"
  }
 },
 "nbformat": 4,
 "nbformat_minor": 5
}
