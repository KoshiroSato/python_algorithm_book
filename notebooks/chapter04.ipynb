{
 "cells": [
  {
   "cell_type": "markdown",
   "id": "38e38ce5",
   "metadata": {},
   "source": [
    "## サーチ"
   ]
  },
  {
   "cell_type": "code",
   "execution_count": 5,
   "id": "3c7f04a6",
   "metadata": {},
   "outputs": [
    {
     "name": "stdout",
     "output_type": "stream",
     "text": [
      "data[7]: 60\n",
      "data[7]: 60\n",
      "name: sato\n",
      "sato's number is 000-0000-0000\n"
     ]
    }
   ],
   "source": [
    "## 線形探索\n",
    "\n",
    "DATA = [57, 48, 46, 52, 45, 59, 61, 60, 49, 71]\n",
    "NUM_DATA = len(DATA) \n",
    "\n",
    "\n",
    "def linear_search(search_key: int, data: list, num_data: int):\n",
    "    flag = False\n",
    "    for i in range(num_data):\n",
    "        if data[i] == search_key:\n",
    "            print(f'data[{i}]: {search_key}')\n",
    "            flag = True\n",
    "    if flag == False:\n",
    "        print(f'{search_key} is not exist')\n",
    "\n",
    "        \n",
    "def linear_search_v2(search_key: int, data: list, num_data: int):\n",
    "    i = 0\n",
    "    while i < num_data and data[i] != search_key:\n",
    "        i += 1\n",
    "    if i == num_data:\n",
    "        print(f'{search_key} is not exist')\n",
    "    else:\n",
    "        print(f'data[{i}]: {search_key}')\n",
    "    \n",
    "    \n",
    "linear_search(60, DATA, NUM_DATA)\n",
    "linear_search_v2(60, DATA, NUM_DATA)\n",
    "\n",
    "###########################################################################\n",
    "\n",
    "DATA = [\n",
    "    ['sato', '000-0000-0000'],\n",
    "    ['suzuki', '111-1111-1111'],\n",
    "    ['takahashi', '222-2222-2222'],\n",
    "    ['tanaka', '333-3333-3333']\n",
    "]\n",
    "NUM_DATA = len(DATA)\n",
    "\n",
    "inp = input('name: ')\n",
    "i = 0\n",
    "while i < NUM_DATA and DATA[i][0] != inp:\n",
    "    i += 1\n",
    "if i == NUM_DATA:\n",
    "    print(f'{inp} is not exist')\n",
    "else:\n",
    "    print(f\"{inp}'s number is {DATA[i][1]}\")"
   ]
  },
  {
   "cell_type": "code",
   "execution_count": 10,
   "id": "860e465e",
   "metadata": {},
   "outputs": [
    {
     "name": "stdout",
     "output_type": "stream",
     "text": [
      "search key: 2\n",
      "L=0 M=7 R=14\n",
      "L=0 M=3 R=6\n",
      "L=0 M=1 R=2\n",
      "data[1]: 2\n"
     ]
    }
   ],
   "source": [
    "## 二分探索\n",
    "\n",
    "DATA = [1, 2, 9, 12, 20, 25, 32, 48, 50, 57, 72, 78, 80, 93, 100]\n",
    "\n",
    "def binary_search(data: list):\n",
    "    search_key = int(input('search key: '))\n",
    "    left = 0\n",
    "    right = len(data) - 1\n",
    "    flag = False\n",
    "    \n",
    "    while left <= right:\n",
    "        mid = (left + right) // 2\n",
    "        print(f'L={left} M={mid} R={right}')\n",
    "        if data[mid] == search_key:\n",
    "            print(f'data[{mid}]: {search_key}')\n",
    "            flag = True\n",
    "            break\n",
    "        if data[mid] < search_key:\n",
    "            left = mid + 1\n",
    "        else:\n",
    "            right = mid - 1\n",
    "    if flag == False:\n",
    "        print(f'{search_key} is not exist')\n",
    "        \n",
    "binary_search(DATA)"
   ]
  },
  {
   "cell_type": "code",
   "execution_count": 19,
   "id": "ec7ac738",
   "metadata": {},
   "outputs": [
    {
     "name": "stdout",
     "output_type": "stream",
     "text": [
      "2\n",
      "5\n",
      "6\n",
      "8\n",
      "9\n",
      "10\n",
      "11\n",
      "12\n"
     ]
    }
   ],
   "source": [
    "## 木探索（二分探索木）\n",
    "\n",
    "LEFT_KEY = 0\n",
    "RIGHT_KEY = 1\n",
    "DATA_KEY = 2\n",
    "\n",
    "TREE_NODES = [\n",
    "    #左枝,右枝,ノード\n",
    "    [1,    2,    10],\n",
    "    [3,    4,     5],\n",
    "    [5,    None, 12],\n",
    "    [None, None,  2],\n",
    "    [6,    7,     8],\n",
    "    [None, None, 11],\n",
    "    [None, None,  6],\n",
    "    [None, None,  9]\n",
    "]\n",
    "\n",
    "def binary_search_tree(p: int, left_key: int, right_key: int, data_key: int, tree_nodes: list):\n",
    "    if p != None:\n",
    "        binary_search_tree(tree_nodes[p][left_key], left_key, right_key, data_key, tree_nodes)\n",
    "        print(tree_nodes[p][data_key])\n",
    "        binary_search_tree(tree_nodes[p][right_key], left_key, right_key, data_key, tree_nodes)\n",
    "\n",
    "binary_search_tree(0, LEFT_KEY, RIGHT_KEY, DATA_KEY, TREE_NODES)"
   ]
  }
 ],
 "metadata": {
  "kernelspec": {
   "display_name": "Python 3",
   "language": "python",
   "name": "python3"
  },
  "language_info": {
   "codemirror_mode": {
    "name": "ipython",
    "version": 3
   },
   "file_extension": ".py",
   "mimetype": "text/x-python",
   "name": "python",
   "nbconvert_exporter": "python",
   "pygments_lexer": "ipython3",
   "version": "3.9.2"
  }
 },
 "nbformat": 4,
 "nbformat_minor": 5
}
