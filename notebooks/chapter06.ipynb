{
 "cells": [
  {
   "cell_type": "markdown",
   "id": "652a1324",
   "metadata": {},
   "source": [
    "## ハッシュ"
   ]
  },
  {
   "cell_type": "code",
   "execution_count": 1,
   "id": "3b5d3b79",
   "metadata": {},
   "outputs": [
    {
     "name": "stdout",
     "output_type": "stream",
     "text": [
      "65\n",
      "12354\n",
      "!\n",
      "い\n"
     ]
    }
   ],
   "source": [
    "## ハッシュ関数\n",
    "\n",
    "\n",
    "# example\n",
    "\n",
    "print(ord('A'))\n",
    "print(ord('あ'))\n",
    "print(chr(33))\n",
    "print(chr(12356))"
   ]
  },
  {
   "cell_type": "code",
   "execution_count": 13,
   "id": "bee4877e",
   "metadata": {},
   "outputs": [
    {
     "name": "stdout",
     "output_type": "stream",
     "text": [
      "さとう こうしろう: 14\n",
      "Koshiro Sato: 142\n"
     ]
    }
   ],
   "source": [
    "# ハッシュ関数（衝突を回避しない）\n",
    "\n",
    "KEYS = ['さとう こうしろう', 'Koshiro Sato']\n",
    "\n",
    "\n",
    "def hashFunc(key: str):\n",
    "    '''\n",
    "    0~999のハッシュ生成\n",
    "    '''\n",
    "    hash_ = 0\n",
    "    for char in key:\n",
    "        if char != ' ':\n",
    "            hash_ += ord(char)\n",
    "    return (hash_ % 1000) \n",
    "\n",
    "for key in KEYS:\n",
    "    hash_value = hashFunc(key)\n",
    "    print(f'{key}: {hash_value}')"
   ]
  },
  {
   "cell_type": "code",
   "execution_count": 3,
   "id": "73e07c48",
   "metadata": {},
   "outputs": [
    {
     "name": "stdout",
     "output_type": "stream",
     "text": [
      "name: hogehoge\n",
      "telephone number: 000-0000-0000\n"
     ]
    }
   ],
   "source": [
    "## ハッシュテーブル（衝突を回避しない）\n",
    "\n",
    "HASH_MAX = 5\n",
    "NAMES = ['hogehoge', '太']\n",
    "TELNUMS = ['000-0000-0000', '111-1111-1111']\n",
    "\n",
    "\n",
    "def hashFunc(key: str, hash_max: int):\n",
    "    hash_ = 0\n",
    "    for char in key:\n",
    "        if char != ' ':\n",
    "            hash_ += ord(char)\n",
    "    return (hash_ % hash_max) \n",
    "\n",
    "def arrays(hash_max: int):\n",
    "    name_arr = [None] * hash_max\n",
    "    telnum_arr = [None] * hash_max\n",
    "    return name_arr, telnum_arr\n",
    "\n",
    "\n",
    "name_arr, telnum_arr = arrays(HASH_MAX)\n",
    "\n",
    "for name, telnum in zip(NAMES, TELNUMS):\n",
    "    hash_ = hashFunc(name, HASH_MAX)\n",
    "    name_arr[hash_] = name\n",
    "    telnum_arr[hash_] = telnum\n",
    "    \n",
    "    \n",
    "inp = input(f'name: ')\n",
    "hash__ = hashFunc(inp, HASH_MAX)\n",
    "\n",
    "print(f'telephone number: {telnum_arr[hash__]}')"
   ]
  },
  {
   "cell_type": "code",
   "execution_count": 11,
   "id": "e4d63d3f",
   "metadata": {},
   "outputs": [
    {
     "name": "stdout",
     "output_type": "stream",
     "text": [
      "rehashed. data storage is complete.\n",
      "hash value: 3 --> 4\n",
      "\n",
      "name: 太\n",
      "telephone number: 111-1111-1111\n"
     ]
    }
   ],
   "source": [
    "## 衝突の回避\n",
    "\n",
    "# ハッシュテーブル（衝突回避）\n",
    "\n",
    "HASH_MAX = 5\n",
    "NAMES = ['hogehoge', '太', 'fugafuga']\n",
    "TELNUMS = ['000-0000-0000', '111-1111-1111', '222-2222-2222']\n",
    "\n",
    "\n",
    "def hashFunc(key: str, hash_max: int):\n",
    "    hash_ = 0\n",
    "    for char in key:\n",
    "        if char != ' ':\n",
    "            hash_ += ord(char)\n",
    "    return (hash_ % hash_max) \n",
    "\n",
    "\n",
    "def arrays(hash_max: int):\n",
    "    name_arr = [None] * hash_max\n",
    "    telnum_arr = [None] * hash_max\n",
    "    return name_arr, telnum_arr\n",
    "\n",
    "\n",
    "def open_addressing(\n",
    "    name: str, \n",
    "    telnum: str,\n",
    "    hash_value: int, \n",
    "    hash_max: int, \n",
    "    name_array: list, \n",
    "    telnum_array: list\n",
    "):\n",
    "    flag = False\n",
    "    for i in range(hash_max-1):\n",
    "        rehash_value = (hash_value+1) % hash_max\n",
    "        if name_array[rehash_value] is None:\n",
    "            name_array[rehash_value] = name\n",
    "            telnum_array[rehash_value] = telnum\n",
    "            flag = True\n",
    "            print(f'rehashed. data storage is complete.\\nhash value: {hash_value} --> {rehash_value}\\n')\n",
    "            break\n",
    "        if flag == False:\n",
    "            print('no space to store.')\n",
    "    return name_array, telnum_array\n",
    "\n",
    "\n",
    "def search_rehash(key: str, hash_value: int, hash_max: int, name_array: list):\n",
    "    for i in range(hash_max-1):\n",
    "        hash_value = (hash_value+1) % hash_max\n",
    "        if name_array[hash_value] == key:\n",
    "            return hash_value\n",
    "        return -1\n",
    "    \n",
    "\n",
    "name_arr, telnum_arr = arrays(HASH_MAX)\n",
    "\n",
    "for name, telnum in zip(NAMES, TELNUMS):\n",
    "    hash_ = hashFunc(name, HASH_MAX)\n",
    "    if name_arr[hash_] is None:\n",
    "        name_arr[hash_] = name\n",
    "        telnum_arr[hash_] = telnum\n",
    "    else:\n",
    "        name_arr, telnum_arr = open_addressing(\n",
    "            name, \n",
    "            telnum, \n",
    "            hash_, \n",
    "            HASH_MAX, \n",
    "            name_arr, \n",
    "            telnum_arr\n",
    "        )\n",
    "        \n",
    "inp = input(f'name: ')\n",
    "hash__ = hashFunc(inp, HASH_MAX)\n",
    "if name_arr[hash__] == inp:\n",
    "    print(f'telephone number: {telnum_arr[hash__]}')\n",
    "elif name_arr[hash__] == 'None':\n",
    "    print('unregistered name.')\n",
    "else:\n",
    "    hash__ = search_rehash(inp, hash__, HASH_MAX, name_arr)\n",
    "    if hash__ == -1:\n",
    "        print('unregistered name.')\n",
    "    else:\n",
    "        print(f'telephone number: {telnum_arr[hash__]}')"
   ]
  },
  {
   "cell_type": "code",
   "execution_count": 14,
   "id": "ee620e04",
   "metadata": {},
   "outputs": [
    {
     "name": "stdout",
     "output_type": "stream",
     "text": [
      "さとう\n",
      "1694cdcfb1452288cf0a2de8c9281263bacaa6efb028ce0f2c2b24809e7fe947\n",
      "\n"
     ]
    }
   ],
   "source": [
    "## 暗号学的ハッシュ関数（SHA-256）\n",
    "\n",
    "import hashlib\n",
    "\n",
    "while True:\n",
    "    inp = input('')\n",
    "    if inp == '':\n",
    "        break\n",
    "    else:\n",
    "        encoded = hashlib.sha256(inp.encode()).hexdigest()\n",
    "        print(encoded)"
   ]
  }
 ],
 "metadata": {
  "kernelspec": {
   "display_name": "Python 3",
   "language": "python",
   "name": "python3"
  },
  "language_info": {
   "codemirror_mode": {
    "name": "ipython",
    "version": 3
   },
   "file_extension": ".py",
   "mimetype": "text/x-python",
   "name": "python",
   "nbconvert_exporter": "python",
   "pygments_lexer": "ipython3",
   "version": "3.9.2"
  }
 },
 "nbformat": 4,
 "nbformat_minor": 5
}
